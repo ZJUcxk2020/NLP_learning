{
 "cells": [
  {
   "cell_type": "code",
   "execution_count": null,
   "metadata": {},
   "outputs": [],
   "source": [
    "import torch\n",
    "import pandas as pd\n",
    "import numpy as np\n",
    "import torch.nn as nn"
   ]
  },
  {
   "cell_type": "markdown",
   "metadata": {},
   "source": [
    "读入数据，查看数据"
   ]
  },
  {
   "cell_type": "code",
   "execution_count": null,
   "metadata": {},
   "outputs": [],
   "source": [
    "data_set=pd.read_csv('../data/IMDB_Dataset.csv')\n",
    "data_set.head()"
   ]
  },
  {
   "cell_type": "markdown",
   "metadata": {},
   "source": [
    "数据预处理：\n",
    "- 大小写转换\n",
    "- 删除HTML标签\n",
    "- 标点\n",
    "- stopword\n",
    "- 分词\n",
    "- 保留词干(stemmer)"
   ]
  },
  {
   "cell_type": "code",
   "execution_count": null,
   "metadata": {},
   "outputs": [],
   "source": [
    "## 大小写转换\n",
    "data_set['review']= data_set['review'].str.lower()\n",
    "data_set.drop_duplicates(inplace=True)\n"
   ]
  },
  {
   "cell_type": "code",
   "execution_count": null,
   "metadata": {},
   "outputs": [],
   "source": [
    "def remove_HTML(text):\n",
    "    import re\n",
    "    clean = re.compile('<.*?>')\n",
    "    return re.sub(clean, '', text)"
   ]
  },
  {
   "cell_type": "code",
   "execution_count": null,
   "metadata": {},
   "outputs": [],
   "source": [
    "## 去除HTML标签\n",
    "data_set['review'] = data_set['review'].apply(remove_HTML)"
   ]
  },
  {
   "cell_type": "code",
   "execution_count": null,
   "metadata": {},
   "outputs": [],
   "source": [
    "from string import punctuation ## punctuation是一个字符串，包含了所有的英文标点符号\n",
    "\n",
    "def remove_punctuation(text):\n",
    "    tt= str.maketrans('','',punctuation)  ## 创建一个映射表，用于字符的替换，将标点符号替换为空字符\n",
    "    return text.translate(tt)         ## 使用映射表替换字符"
   ]
  },
  {
   "cell_type": "code",
   "execution_count": null,
   "metadata": {},
   "outputs": [],
   "source": [
    "## 去除标点符号\n",
    "data_set['review'] = data_set['review'].apply(remove_punctuation)"
   ]
  },
  {
   "cell_type": "code",
   "execution_count": null,
   "metadata": {},
   "outputs": [],
   "source": [
    "# import nltk\n",
    "# nltk.download('stopwords')  ## 下载stopwords\n",
    "from nltk.corpus import stopwords  ## 从nltk.corpus语料库中导入stopwords\n",
    "\n",
    "st_words= set(stopwords.words('english'))     ## 创建一个包含所有英文stopwords的集合\n",
    "def remove_stopwords(text):   ## 定义一个函数，用于去除stopwords\n",
    "    words= text.split()\n",
    "    fil_words= [word for word in words if word.lower() not in st_words]\n",
    "    return \" \".join(fil_words)"
   ]
  },
  {
   "cell_type": "code",
   "execution_count": null,
   "metadata": {},
   "outputs": [],
   "source": [
    "## 去除stopwords\n",
    "data_set['review'] = data_set['review'].apply(remove_stopwords)"
   ]
  },
  {
   "cell_type": "code",
   "execution_count": null,
   "metadata": {},
   "outputs": [],
   "source": [
    "from nltk.tokenize import word_tokenize\n",
    "from nltk.stem import PorterStemmer\n",
    "\n",
    "stemmer= PorterStemmer()\n",
    "\n",
    "data_set['review']= data_set['review'].apply(lambda x: word_tokenize(x))  ## 对review进行分词(空格分词)\n",
    "## 对分词后的review进行词干提取\n",
    "data_set['review'] = data_set['review'].apply(lambda tokens: [stemmer.stem(token) for token in tokens])"
   ]
  },
  {
   "cell_type": "code",
   "execution_count": null,
   "metadata": {},
   "outputs": [],
   "source": [
    "data_set.head()"
   ]
  },
  {
   "cell_type": "code",
   "execution_count": null,
   "metadata": {},
   "outputs": [],
   "source": [
    "def encode_label(label):\n",
    "    if label == 'positive':\n",
    "        return 1\n",
    "    else:\n",
    "        return 0\n",
    "    "
   ]
  },
  {
   "cell_type": "code",
   "execution_count": null,
   "metadata": {},
   "outputs": [],
   "source": [
    "data_set['sentiment'] = data_set['sentiment'].apply(encode_label)"
   ]
  },
  {
   "cell_type": "code",
   "execution_count": null,
   "metadata": {},
   "outputs": [],
   "source": [
    "data_set.head()"
   ]
  },
  {
   "cell_type": "markdown",
   "metadata": {},
   "source": [
    "建立词频表"
   ]
  },
  {
   "cell_type": "code",
   "execution_count": null,
   "metadata": {},
   "outputs": [],
   "source": [
    "vocab=dict()\n",
    "def count_words(words):\n",
    "    \n",
    "    for word in words:\n",
    "        # 使用字典的 get() 方法获取单词的计数，如果单词不存在，则默认为0\n",
    "        count = vocab.get(word, 0)\n",
    "        # 将单词的计数加1，并更新字典中的值\n",
    "        vocab[word] = count + 1\n"
   ]
  },
  {
   "cell_type": "code",
   "execution_count": null,
   "metadata": {},
   "outputs": [],
   "source": [
    "for sentence in data_set['review']:\n",
    "    count_words(sentence)"
   ]
  },
  {
   "cell_type": "code",
   "execution_count": null,
   "metadata": {},
   "outputs": [],
   "source": [
    "vocab_num=10000"
   ]
  },
  {
   "cell_type": "code",
   "execution_count": null,
   "metadata": {},
   "outputs": [],
   "source": [
    "## 词频表排序\n",
    "sorted_vocab_list = sorted(vocab.items(), key=lambda x: x[1],reverse=True)\n",
    "sorted_vocab = {key: value for key, value in sorted_vocab_list[:vocab_num]}\n",
    "index_vocab = {key: i + 1 for i, key in enumerate(sorted_vocab)}"
   ]
  },
  {
   "cell_type": "code",
   "execution_count": null,
   "metadata": {},
   "outputs": [],
   "source": [
    "import json\n",
    "\n",
    "json.dump(sorted_vocab, open('vocab_10000.json', 'w'))"
   ]
  },
  {
   "cell_type": "code",
   "execution_count": null,
   "metadata": {},
   "outputs": [],
   "source": [
    "import json \n",
    "\n",
    "with open(\"vocab_10000.json\",'r', encoding='UTF-8') as f:\n",
    "     sorted_vocab = json.load(f)\n"
   ]
  },
  {
   "cell_type": "markdown",
   "metadata": {},
   "source": [
    "使用词频表对评论做one-hot encoding"
   ]
  },
  {
   "cell_type": "code",
   "execution_count": null,
   "metadata": {},
   "outputs": [],
   "source": [
    "def onehot_encoding(sentence, index_vocab):\n",
    "    encoding = [index_vocab.get(word, 0) for word in sentence]\n",
    "    return encoding"
   ]
  },
  {
   "cell_type": "code",
   "execution_count": null,
   "metadata": {},
   "outputs": [],
   "source": [
    "data_set['review'] = data_set['review'].apply(lambda x: onehot_encoding(x, index_vocab))"
   ]
  },
  {
   "cell_type": "code",
   "execution_count": null,
   "metadata": {},
   "outputs": [],
   "source": [
    "data_set.head()"
   ]
  },
  {
   "cell_type": "code",
   "execution_count": null,
   "metadata": {},
   "outputs": [],
   "source": [
    "def padding(sentence, seq_len):\n",
    "    if len(sentence) <= seq_len:\n",
    "        padding = [0] * (seq_len - len(sentence))\n",
    "        return padding+ sentence\n",
    "    else:\n",
    "        return sentence[:seq_len]"
   ]
  },
  {
   "cell_type": "code",
   "execution_count": null,
   "metadata": {},
   "outputs": [],
   "source": [
    "## 对review进行padding，超过seq_len的截断，不足的补0\n",
    "seq_len=128\n",
    "data_set['review'] = data_set['review'].apply(lambda x: padding(x, seq_len))\n"
   ]
  },
  {
   "cell_type": "code",
   "execution_count": null,
   "metadata": {},
   "outputs": [],
   "source": [
    "train_on_gpu=torch.cuda.is_available()\n",
    "train_on_gpu"
   ]
  },
  {
   "cell_type": "code",
   "execution_count": null,
   "metadata": {},
   "outputs": [],
   "source": [
    "class LSTM_model(nn.Module):\n",
    "    ## 定义LSTM模型\n",
    "    ###\n",
    "    ## num_embeddings: 词汇表的大小\n",
    "    ## embedding_dim: 词向量的维度\n",
    "    ## state_dim: RNN的状态的维度\n",
    "    ## n_layers: RNN的层数\n",
    "    ## biderctional: 是否使用双向RNN\n",
    "    ###\n",
    "    def __init__(self, num_embeddings,embedding_dim,state_dim, n_layers,biderctional=False):\n",
    "        super(LSTM_model, self).__init__()\n",
    "\n",
    "        self.state_dim=state_dim\n",
    "        self.n_layers=n_layers\n",
    "        self.embedding=nn.Embedding(num_embeddings=num_embeddings, embedding_dim=embedding_dim)\n",
    "\n",
    "        self.LSTM=nn.LSTM(input_size=embedding_dim, hidden_size=state_dim, num_layers=n_layers, batch_first=True, bidirectional=biderctional)\n",
    "        self.dropout=nn.Dropout(0.3)\n",
    "        self.fc1=nn.Linear(state_dim, 1)\n",
    "        self.fc2=nn.Linear(2*state_dim, 1)\n",
    "        self.sigmoid=nn.Sigmoid()\n",
    "        self.bidirectional=biderctional\n",
    "    def forward(self, x):\n",
    "        x=self.embedding(x)\n",
    "        r_out, hidden=self.LSTM(x)\n",
    "        last_layer_out=r_out[:,-1,:]\n",
    "        if self.bidirectional:\n",
    "            output=self.fc2(last_layer_out)\n",
    "        else:\n",
    "            output=self.fc1(last_layer_out)\n",
    "        output=self.sigmoid(output)\n",
    "        return output, hidden\n"
   ]
  },
  {
   "cell_type": "code",
   "execution_count": null,
   "metadata": {},
   "outputs": [],
   "source": [
    "num_embeddings=vocab_num+1\n",
    "embedding_dim=128\n",
    "state_dim=256\n",
    "n_layers=1\n",
    "bidirectional=False\n",
    "\n",
    "lstm_model=LSTM_model(num_embeddings,embedding_dim,state_dim,n_layers,bidirectional)"
   ]
  },
  {
   "cell_type": "code",
   "execution_count": null,
   "metadata": {},
   "outputs": [],
   "source": [
    "from torch.utils.data import DataLoader, TensorDataset\n",
    "from sklearn.model_selection import train_test_split"
   ]
  },
  {
   "cell_type": "code",
   "execution_count": null,
   "metadata": {},
   "outputs": [],
   "source": [
    "batch_size=64\n",
    "\n",
    "train_data,temp_data=train_test_split(data_set, test_size=0.3, random_state=42)\n",
    "test_data,valid_data=train_test_split(temp_data, test_size=0.5, random_state=42)\n",
    "\n",
    "\n",
    "train_data_set = TensorDataset(torch.from_numpy(np.array(train_data['review'].tolist())), torch.from_numpy(np.array(train_data['sentiment'].tolist())))\n",
    "valid_data_set = TensorDataset(torch.from_numpy(np.array(valid_data['review'].tolist())), torch.from_numpy(np.array(valid_data['sentiment'].tolist())))\n",
    "test_data_set = TensorDataset(torch.from_numpy(np.array(test_data['review'].tolist())), torch.from_numpy(np.array(test_data['sentiment'].tolist())))\n",
    "\n",
    "train_data_loader=DataLoader(train_data_set, batch_size=batch_size, shuffle=True)\n",
    "test_data_loader=DataLoader(test_data_set, batch_size=batch_size, shuffle=True)\n",
    "valid_data_loader=DataLoader(valid_data_set, batch_size=batch_size, shuffle=True)"
   ]
  },
  {
   "cell_type": "markdown",
   "metadata": {},
   "source": [
    "Training"
   ]
  },
  {
   "cell_type": "code",
   "execution_count": null,
   "metadata": {},
   "outputs": [],
   "source": [
    "lr=0.001\n",
    "criterion=nn.BCELoss()\n",
    "optimizer=torch.optim.Adam(lstm_model.parameters(), lr=lr)\n"
   ]
  },
  {
   "cell_type": "code",
   "execution_count": null,
   "metadata": {},
   "outputs": [],
   "source": [
    "def train(epochs, train_data_loader, valid_data_loader, rnn_model, optimizer, criterion, train_on_gpu,print_every=100):\n",
    "    counter=0\n",
    "    clip=5\n",
    "    if train_on_gpu:\n",
    "        device = torch.device('cuda')\n",
    "        rnn_model.to(device)\n",
    "    rnn_model.train()\n",
    "    train_acc=[]\n",
    "    train_loss=[]\n",
    "    valid_acc=[]\n",
    "    valid_loss=[]\n",
    "    for i in range(epochs):\n",
    "        correct = 0\n",
    "        total = 0\n",
    "        for input,label in train_data_loader:\n",
    "            counter+=1\n",
    "            if train_on_gpu:\n",
    "                input, label=input.cuda(), label.cuda()\n",
    "            rnn_model.zero_grad()\n",
    "            output, _=rnn_model(input)\n",
    "            loss=criterion(output.squeeze(), label.float())\n",
    "            loss.backward()\n",
    "            nn.utils.clip_grad_norm_(rnn_model.parameters(), clip)\n",
    "            optimizer.step()\n",
    "\n",
    "            predicted = torch.round(output).squeeze()\n",
    "            total += label.size(0)\n",
    "            correct += (predicted == label).sum().item()\n",
    "\n",
    "            if counter % print_every ==0:\n",
    "                val_losses=[]\n",
    "                val_correct = 0\n",
    "                val_total = 0\n",
    "                rnn_model.eval()\n",
    "                for val_input, val_label in valid_data_loader:\n",
    "                    if train_on_gpu:\n",
    "                        val_input, val_label=val_input.cuda(), val_label.cuda()\n",
    "                    val_output, _=rnn_model(val_input)\n",
    "                    val_loss=criterion(val_output.squeeze(), val_label.float())\n",
    "                    val_losses.append(val_loss.item())\n",
    "\n",
    "                    val_predicted = torch.round(val_output).squeeze()\n",
    "                    val_total += val_label.size(0)\n",
    "                    val_correct += (val_predicted == val_label).sum().item()\n",
    "\n",
    "                rnn_model.train()\n",
    "                print(\"Epoch: {}/{}...\".format(i+1, epochs),\n",
    "                    \"Step: {}...\".format(counter),\n",
    "                    \"Loss: {:.6f}...\".format(loss.item()),\n",
    "                    \"Accuracy: {:.2f}%...\".format(100 * correct / total),\n",
    "                    \"Val Loss: {:.6f}...\".format(np.mean(val_losses)),\n",
    "                    \"Val Accuracy: {:.2f}%\".format(100 * val_correct / val_total))\n",
    "        train_acc.append(100 * correct / total)\n",
    "        train_loss.append(loss.item())\n",
    "        valid_acc.append(100 * val_correct / val_total)\n",
    "        valid_loss.append(np.mean(val_losses))\n",
    "    return train_acc, train_loss, valid_acc, valid_loss"
   ]
  },
  {
   "cell_type": "code",
   "execution_count": null,
   "metadata": {},
   "outputs": [],
   "source": [
    "epochs=15\n",
    "train_acc, train_loss, valid_acc, valid_loss=train(epochs, train_data_loader, valid_data_loader, lstm_model, optimizer, criterion, train_on_gpu,print_every=100)"
   ]
  },
  {
   "cell_type": "code",
   "execution_count": null,
   "metadata": {},
   "outputs": [],
   "source": [
    "import matplotlib.pyplot as plt\n",
    "def show(train_loss, valid_loss, train_acc, valid_acc, epochs):\n",
    "    plt.figure(figsize=(10, 5))\n",
    "    plt.plot(train_loss, label='Train Loss')\n",
    "    plt.plot(valid_loss, label='Validation Loss')\n",
    "    plt.xlabel('Epochs')\n",
    "    plt.ylabel('Loss')\n",
    "    plt.title('Training and Validation Loss')\n",
    "    plt.xticks(range(epochs), range(1, epochs + 1))  # 设置x轴刻度为epoch数\n",
    "    plt.legend()\n",
    "    plt.show()\n",
    "\n",
    "    # 绘制训练和验证准确率曲线\n",
    "    plt.figure(figsize=(10, 5))\n",
    "    plt.plot(train_acc, label='Train Accuracy')\n",
    "    plt.plot(valid_acc, label='Validation Accuracy')\n",
    "    plt.xlabel('Epochs')\n",
    "    plt.ylabel('Accuracy')\n",
    "    plt.title('Training and Validation Accuracy')\n",
    "    plt.xticks(range(epochs), range(1, epochs + 1))  # 设置x轴刻度为epoch数\n",
    "    plt.legend()\n",
    "    plt.show()"
   ]
  },
  {
   "cell_type": "code",
   "execution_count": null,
   "metadata": {},
   "outputs": [],
   "source": [
    "show(train_loss, valid_loss, train_acc, valid_acc, epochs)"
   ]
  },
  {
   "cell_type": "markdown",
   "metadata": {},
   "source": [
    "双向LSTM模型"
   ]
  },
  {
   "cell_type": "code",
   "execution_count": null,
   "metadata": {},
   "outputs": [],
   "source": [
    "bidirectional=True\n",
    "lstm_model=LSTM_model(num_embeddings,embedding_dim,state_dim,n_layers,bidirectional)"
   ]
  },
  {
   "cell_type": "code",
   "execution_count": null,
   "metadata": {},
   "outputs": [],
   "source": [
    "lr=0.001\n",
    "criterion=nn.BCELoss()\n",
    "optimizer=torch.optim.Adam(lstm_model.parameters(), lr=lr)\n"
   ]
  },
  {
   "cell_type": "code",
   "execution_count": null,
   "metadata": {},
   "outputs": [],
   "source": [
    "epochs=15\n",
    "train_acc, train_loss, valid_acc, valid_loss=train(epochs, train_data_loader, valid_data_loader, lstm_model, optimizer, criterion, train_on_gpu,print_every=100)"
   ]
  },
  {
   "cell_type": "code",
   "execution_count": null,
   "metadata": {},
   "outputs": [],
   "source": [
    "show(train_loss, valid_loss, train_acc, valid_acc, epochs)"
   ]
  }
 ],
 "metadata": {
  "kernelspec": {
   "display_name": "Python 3",
   "language": "python",
   "name": "python3"
  },
  "language_info": {
   "codemirror_mode": {
    "name": "ipython",
    "version": 3
   },
   "file_extension": ".py",
   "mimetype": "text/x-python",
   "name": "python",
   "nbconvert_exporter": "python",
   "pygments_lexer": "ipython3",
   "version": "3.11.4"
  }
 },
 "nbformat": 4,
 "nbformat_minor": 2
}
